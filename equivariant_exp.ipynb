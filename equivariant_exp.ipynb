{
  "nbformat": 4,
  "nbformat_minor": 0,
  "metadata": {
    "colab": {
      "provenance": []
    },
    "kernelspec": {
      "name": "python3",
      "display_name": "Python 3"
    },
    "language_info": {
      "name": "python"
    },
    "accelerator": "GPU",
    "gpuClass": "standard"
  },
  "cells": [
    {
      "cell_type": "markdown",
      "source": [
        "# Expressive power testing experiment\n",
        "\n",
        "In this experiment we will examine the expressive power of non permutation equivariant pre-colorings, specifically random features generation.\n",
        "We will train GIN model on a relatively small pair of 1-WL indistinguishable graphs using random pre-coloring and the spectral pre-coloring.\n",
        "\n",
        "The random features make it possible for the GNN to distinguish between the graphs at the cost of distinguishing between two isomorphic graphs. \n",
        "This situation will force the GNN to think that it gets a new graph each time and prevent it from learning the diffrences between the two graphs.\n",
        "The spectral features that are permutation equivariant and strictly more expressive than 1-WL will differentiate between the graphs while generating a constant representatation for each set of isomorphic graphs. "
      ],
      "metadata": {
        "id": "Nb-S_6T0MVNF"
      }
    },
    {
      "cell_type": "code",
      "source": [
        "!pip install torch-scatter -f https://data.pyg.org/whl/torch-1.12.0+cu116.html\n",
        "!pip install torch-sparse -f https://data.pyg.org/whl/torch-1.12.0+cu116.html\n",
        "!pip install torch-geometric\n",
        "!pip install class-resolver"
      ],
      "metadata": {
        "colab": {
          "base_uri": "https://localhost:8080/"
        },
        "id": "PPRcKFRBXXz8",
        "outputId": "767afebb-9d2d-44dd-cb5a-5bdbe83f895b"
      },
      "execution_count": null,
      "outputs": [
        {
          "output_type": "stream",
          "name": "stdout",
          "text": [
            "Looking in indexes: https://pypi.org/simple, https://us-python.pkg.dev/colab-wheels/public/simple/\n",
            "Looking in links: https://data.pyg.org/whl/torch-1.12.0+cu116.html\n",
            "Collecting torch-scatter\n",
            "  Downloading https://data.pyg.org/whl/torch-1.12.0%2Bcu116/torch_scatter-2.0.9-cp37-cp37m-linux_x86_64.whl (8.0 MB)\n",
            "\u001b[K     |████████████████████████████████| 8.0 MB 2.7 MB/s \n",
            "\u001b[?25hInstalling collected packages: torch-scatter\n",
            "Successfully installed torch-scatter-2.0.9\n",
            "Looking in indexes: https://pypi.org/simple, https://us-python.pkg.dev/colab-wheels/public/simple/\n",
            "Looking in links: https://data.pyg.org/whl/torch-1.12.0+cu116.html\n",
            "Collecting torch-sparse\n",
            "  Downloading https://data.pyg.org/whl/torch-1.12.0%2Bcu116/torch_sparse-0.6.14-cp37-cp37m-linux_x86_64.whl (3.5 MB)\n",
            "\u001b[K     |████████████████████████████████| 3.5 MB 2.0 MB/s \n",
            "\u001b[?25hRequirement already satisfied: scipy in /usr/local/lib/python3.7/dist-packages (from torch-sparse) (1.7.3)\n",
            "Requirement already satisfied: numpy<1.23.0,>=1.16.5 in /usr/local/lib/python3.7/dist-packages (from scipy->torch-sparse) (1.21.6)\n",
            "Installing collected packages: torch-sparse\n",
            "Successfully installed torch-sparse-0.6.14\n",
            "Looking in indexes: https://pypi.org/simple, https://us-python.pkg.dev/colab-wheels/public/simple/\n",
            "Collecting torch-geometric\n",
            "  Downloading torch_geometric-2.0.4.tar.gz (407 kB)\n",
            "\u001b[K     |████████████████████████████████| 407 kB 5.2 MB/s \n",
            "\u001b[?25hRequirement already satisfied: tqdm in /usr/local/lib/python3.7/dist-packages (from torch-geometric) (4.64.0)\n",
            "Requirement already satisfied: numpy in /usr/local/lib/python3.7/dist-packages (from torch-geometric) (1.21.6)\n",
            "Requirement already satisfied: scipy in /usr/local/lib/python3.7/dist-packages (from torch-geometric) (1.7.3)\n",
            "Requirement already satisfied: pandas in /usr/local/lib/python3.7/dist-packages (from torch-geometric) (1.3.5)\n",
            "Requirement already satisfied: jinja2 in /usr/local/lib/python3.7/dist-packages (from torch-geometric) (2.11.3)\n",
            "Requirement already satisfied: requests in /usr/local/lib/python3.7/dist-packages (from torch-geometric) (2.23.0)\n",
            "Requirement already satisfied: pyparsing in /usr/local/lib/python3.7/dist-packages (from torch-geometric) (3.0.9)\n",
            "Requirement already satisfied: scikit-learn in /usr/local/lib/python3.7/dist-packages (from torch-geometric) (1.0.2)\n",
            "Requirement already satisfied: MarkupSafe>=0.23 in /usr/local/lib/python3.7/dist-packages (from jinja2->torch-geometric) (2.0.1)\n",
            "Requirement already satisfied: python-dateutil>=2.7.3 in /usr/local/lib/python3.7/dist-packages (from pandas->torch-geometric) (2.8.2)\n",
            "Requirement already satisfied: pytz>=2017.3 in /usr/local/lib/python3.7/dist-packages (from pandas->torch-geometric) (2022.1)\n",
            "Requirement already satisfied: six>=1.5 in /usr/local/lib/python3.7/dist-packages (from python-dateutil>=2.7.3->pandas->torch-geometric) (1.15.0)\n",
            "Requirement already satisfied: idna<3,>=2.5 in /usr/local/lib/python3.7/dist-packages (from requests->torch-geometric) (2.10)\n",
            "Requirement already satisfied: urllib3!=1.25.0,!=1.25.1,<1.26,>=1.21.1 in /usr/local/lib/python3.7/dist-packages (from requests->torch-geometric) (1.24.3)\n",
            "Requirement already satisfied: chardet<4,>=3.0.2 in /usr/local/lib/python3.7/dist-packages (from requests->torch-geometric) (3.0.4)\n",
            "Requirement already satisfied: certifi>=2017.4.17 in /usr/local/lib/python3.7/dist-packages (from requests->torch-geometric) (2022.6.15)\n",
            "Requirement already satisfied: joblib>=0.11 in /usr/local/lib/python3.7/dist-packages (from scikit-learn->torch-geometric) (1.1.0)\n",
            "Requirement already satisfied: threadpoolctl>=2.0.0 in /usr/local/lib/python3.7/dist-packages (from scikit-learn->torch-geometric) (3.1.0)\n",
            "Building wheels for collected packages: torch-geometric\n",
            "  Building wheel for torch-geometric (setup.py) ... \u001b[?25l\u001b[?25hdone\n",
            "  Created wheel for torch-geometric: filename=torch_geometric-2.0.4-py3-none-any.whl size=616603 sha256=b40a23ef4a37ed720eab2e553d0e072a978ec92b5566e38a562b23e4a39480f8\n",
            "  Stored in directory: /root/.cache/pip/wheels/18/a6/a4/ca18c3051fcead866fe7b85700ee2240d883562a1bc70ce421\n",
            "Successfully built torch-geometric\n",
            "Installing collected packages: torch-geometric\n",
            "Successfully installed torch-geometric-2.0.4\n",
            "Looking in indexes: https://pypi.org/simple, https://us-python.pkg.dev/colab-wheels/public/simple/\n",
            "Collecting class-resolver\n",
            "  Downloading class_resolver-0.3.10-py3-none-any.whl (21 kB)\n",
            "Installing collected packages: class-resolver\n",
            "Successfully installed class-resolver-0.3.10\n"
          ]
        }
      ]
    },
    {
      "cell_type": "code",
      "source": [
        "import numpy as np\n",
        "import networkx as nx\n",
        "from networkx import laplacian_matrix\n",
        "import torch\n",
        "from torch_geometric.utils import to_undirected\n",
        "from torch_geometric.data import Data\n",
        "from torch_geometric.loader import DataLoader\n",
        "from torch_geometric.nn import GIN,BatchNorm\n",
        "from torch_scatter import scatter_add\n",
        "from sklearn.model_selection import StratifiedKFold\n",
        "from torch import optim\n",
        "from tqdm import tqdm"
      ],
      "metadata": {
        "id": "Vcp2PutBTNDT"
      },
      "execution_count": null,
      "outputs": []
    },
    {
      "cell_type": "code",
      "execution_count": null,
      "metadata": {
        "id": "ZjaUqdEtS6hb"
      },
      "outputs": [],
      "source": [
        "non_isomorphic_graphs = (\n",
        "    np.array([\n",
        "        [0, 1, 0, 0, 0, 0, 0, 0, 0, 1], \n",
        "        [1, 0, 1, 0, 0, 0, 0, 0, 0, 0], \n",
        "        [0, 1, 0, 1, 0, 0, 0, 1, 0, 0], \n",
        "        [0, 0, 1, 0, 1, 0, 0, 0, 0, 0], \n",
        "        [0, 0, 0, 1, 0, 1, 0, 0, 0, 0],\n",
        "        [0, 0, 0, 0, 1, 0, 1, 0, 0, 0], \n",
        "        [0, 0, 0, 0, 0, 1, 0, 1, 0, 0],\n",
        "        [0, 0, 1, 0, 0, 0, 1, 0, 1, 0],\n",
        "        [0, 0, 0, 0, 0, 0, 0, 1, 0, 1],\n",
        "        [1, 0, 0, 0, 0, 0, 0, 0, 1, 0],\n",
        "    ]),\n",
        "    np.array([\n",
        "        [0, 1, 0, 0, 0, 0, 0, 0, 0, 1],\n",
        "        [1, 0, 1, 0, 0, 0, 0, 0, 0, 0],\n",
        "        [0, 1, 0, 1, 0, 0, 0, 0, 1, 0],\n",
        "        [0, 0, 1, 0, 1, 0, 0, 1, 0, 0],\n",
        "        [0, 0, 0, 1, 0, 1, 0, 0, 0, 0],\n",
        "        [0, 0, 0, 0, 1, 0, 1, 0, 0, 0],\n",
        "        [0, 0, 0, 0, 0, 1, 0, 1, 0, 0],\n",
        "        [0, 0, 0, 1, 0, 0, 1, 0, 0, 0],\n",
        "        [0, 0, 1, 0, 0, 0, 0, 0, 0, 1],\n",
        "        [1, 0, 0, 0, 0, 0, 0, 0, 1, 0],\n",
        "    ]))\n",
        "\n",
        "def array2data(array: np.array, x: torch.Tensor, y):\n",
        "    g = nx.from_numpy_array(array)\n",
        "    edge_index = torch.tensor(list(g.edges())).T\n",
        "    if edge_index.size()[0] != 0:\n",
        "        edge_index = to_undirected(edge_index)\n",
        "    else:\n",
        "        edge_index = torch.Tensor([[], []]).long()\n",
        "    data = Data(x, edge_index, y=y)\n",
        "    return data\n",
        "  \n",
        "def random_permutation(n):\n",
        "  p = np.random.permutation(np.eye(n))\n",
        "  return p\n",
        "\n",
        "def separate_data(dataset, seed, fold_idx):\n",
        "    assert 0 <= fold_idx < 10, \"fold_idx must be from 0 to 9.\"\n",
        "    skf = StratifiedKFold(n_splits=10, shuffle=True, random_state=seed)\n",
        "\n",
        "    idx_list = []\n",
        "    for idx in skf.split(np.zeros(len(dataset)), np.zeros(len(dataset))):\n",
        "        idx_list.append(idx)\n",
        "    train_idx, test_idx = idx_list[fold_idx]\n",
        "\n",
        "    return list(dataset[i] for i in list(train_idx)), list(dataset[i] for i in list(test_idx))\n",
        "\n",
        "\n",
        "def add_random_features(dataset) :\n",
        "       for i in range(len(dataset)):                                                          \n",
        "        dataset[i].x = torch.rand((dataset[i].x.size(0),10)).to(dataset[i].x.device)\n",
        "\n",
        "\n",
        "def heat_kernel_features(edge_index: torch.Tensor, num_nodes, t_range=torch.logspace(-2, 2, steps=10)):\n",
        "      g = nx.Graph()\n",
        "      g.add_nodes_from(list(range(num_nodes)))\n",
        "      g.add_edges_from((to_undirected(edge_index).T.tolist()))\n",
        "      adj_mat = torch.tensor(nx.to_numpy_array(g))\n",
        "      n = len(adj_mat)\n",
        "      T = len(t_range)\n",
        "      t_range = t_range.double() \n",
        "      laplacian = torch.Tensor(laplacian_matrix(nx.from_numpy_array(adj_mat.numpy())).toarray())\n",
        "      eig_val, eig_vec = torch.linalg.eigh(laplacian.double())\n",
        "      eigen_vec_3d = eig_vec.unsqueeze(0).repeat(n, 1, 1) * (eig_vec.unsqueeze(1).repeat(1, n, 1))\n",
        "      H = torch.exp(-eig_val.unsqueeze(1) @ t_range.unsqueeze(0)).T @ eigen_vec_3d.transpose(1, 2)\n",
        "      H = H.transpose(1, 2).transpose(0, 1)\n",
        "      features = H[range(len(H)), range(len(H))].clone()\n",
        "      return features.float()\n",
        "\n",
        "def add_spectral_features(dataset):\n",
        "    for i in range(len(dataset)):\n",
        "        dataset[i].x = heat_kernel_features(dataset[i].edge_index, dataset[i].num_nodes)                                                                  \n",
        "\n",
        "def generate_dataset(graphs, num=500):\n",
        "    a1, a2 = graphs\n",
        "    nodes = a1.shape[0]\n",
        "    permutad_graphs = []\n",
        "    for _ in range(num):\n",
        "      p = random_permutation(nodes)\n",
        "      permutad_graphs += [array2data(p @ a1 @ p.T, x=torch.ones((nodes, 1)), y=0)]\n",
        "      p = random_permutation(nodes)\n",
        "      permutad_graphs += [array2data(p @ a2 @ p.T, x=torch.ones((nodes, 1)), y=1)]\n",
        "\n",
        "    return permutad_graphs\n",
        "\n",
        "###pass data to model with minibatch during testing to avoid memory overflow (does not perform backpropagation)\n",
        "def pass_data_iteratively(model, graphs, batch_size=256):\n",
        "    model.eval()\n",
        "    output = []\n",
        "    labels = []\n",
        "    loader = DataLoader(graphs, batch_size=batch_size, shuffle=True)\n",
        "    for data in loader:\n",
        "        output.append(model(data).detach())\n",
        "        labels.append(data.y)\n",
        "    return torch.cat(output, 0), torch.cat(labels, 0)\n",
        "\n",
        "def train(batch_size, model, train_graphs, optimizer):\n",
        "    model.train()\n",
        "    criterion = torch.nn.CrossEntropyLoss()\n",
        "\n",
        "    train_graphs_loader = DataLoader(train_graphs, batch_size=batch_size, shuffle=True)\n",
        "    for batch_graphs in train_graphs_loader:\n",
        "        output = model(batch_graphs)\n",
        "        labels = batch_graphs.y.to(batch_graphs.x.device)\n",
        "        # compute loss\n",
        "        loss = criterion(output, labels)\n",
        "\n",
        "        # backprop\n",
        "        if optimizer is not None:\n",
        "            optimizer.zero_grad()\n",
        "            loss.backward()\n",
        "            optimizer.step()\n",
        "\n",
        "def test(model, test_graphs):\n",
        "    model.eval()\n",
        "\n",
        "    output, labels = pass_data_iteratively(model, test_graphs)\n",
        "    pred = output.max(1, keepdim=True)[1]\n",
        "    correct = pred.eq(labels.view_as(pred).to(output.device)).sum().item()\n",
        "    acc_test = correct / float(len(test_graphs))\n",
        "\n",
        "    return acc_test"
      ]
    },
    {
      "cell_type": "code",
      "source": [
        "class MyGNN(torch.nn.Module):\n",
        "    def __init__(self, in_channels=10, hidden_channels=64, num_layers=2, num_classes=2):\n",
        "        super().__init__()\n",
        "        self.inner_model = GIN(in_channels, hidden_channels, num_layers, out_channels=None,\n",
        "                                     norm=BatchNorm(hidden_channels))\n",
        "        self.linear = torch.nn.Linear(hidden_channels, num_classes)\n",
        "\n",
        "    def forward(self, data):\n",
        "        x, edge_index, batch = data.x, data.edge_index, data.batch.to(data.x.device)\n",
        "        node_desciptors = self.inner_model(x, edge_index)\n",
        "        graph_descriptors = scatter_add(node_desciptors, batch, dim=0)\n",
        "        return self.linear(graph_descriptors)"
      ],
      "metadata": {
        "id": "S4KhgQYSlPoQ"
      },
      "execution_count": null,
      "outputs": []
    },
    {
      "cell_type": "code",
      "source": [
        "repeats = 10\n",
        "accs_spectral = np.zeros(repeats)\n",
        "accs_random = np.zeros(repeats)\n",
        "device = torch.device('cuda' if torch.cuda.is_available() else 'cpu')"
      ],
      "metadata": {
        "id": "JdG_R9fweBtl"
      },
      "execution_count": null,
      "outputs": []
    },
    {
      "cell_type": "code",
      "source": [
        "for r in range(repeats):\n",
        "      dataset = generate_dataset(non_isomorphic_graphs)\n",
        "      for i in range(len(dataset)):\n",
        "          dataset[i] = dataset[i].to(device)\n",
        "      train_graphs, test_graphs = separate_data(dataset, seed=0, fold_idx=0)\n",
        "\n",
        "      add_random_features(train_graphs)\n",
        "      add_random_features(test_graphs)\n",
        "      model = MyGNN().to(device)\n",
        "      optimizer = optim.Adam(model.parameters(), lr=0.01)\n",
        "\n",
        "      for epoch in tqdm(range(0, 50)):\n",
        "          train(256, model, train_graphs, optimizer)\n",
        "\n",
        "      accs_random[r] = test(model, test_graphs)\n",
        "\n",
        "\n",
        "      add_spectral_features(train_graphs)\n",
        "      add_spectral_features(test_graphs)\n",
        "      for i in range(len(dataset)):\n",
        "          dataset[i] = dataset[i].to(device)\n",
        "      model = MyGNN().to(device)\n",
        "      optimizer = optim.Adam(model.parameters(), lr=0.01)\n",
        "     \n",
        "\n",
        "      for epoch in tqdm(range(0, 50)):\n",
        "          train(256, model, train_graphs, optimizer)\n",
        "\n",
        "      accs_spectral[r] = test(model, test_graphs)\n",
        "\n",
        "print()\n",
        "print( f\"Average accuracy for random features:{accs_random[0].mean()}±{accs_random[0].std()}\")\n",
        "print( f\"Average accuracy for spectral features: {accs_spectral[0].mean()}±{accs_spectral[0].std()}\")"
      ],
      "metadata": {
        "colab": {
          "base_uri": "https://localhost:8080/"
        },
        "id": "si7vDjmFeFCF",
        "outputId": "fa2edcdb-db33-4723-ff02-92917921982d"
      },
      "execution_count": null,
      "outputs": [
        {
          "output_type": "stream",
          "name": "stderr",
          "text": [
            "100%|██████████| 50/50 [00:03<00:00, 13.78it/s]\n",
            "100%|██████████| 50/50 [00:04<00:00, 11.83it/s]\n",
            "100%|██████████| 50/50 [00:03<00:00, 13.75it/s]\n",
            "100%|██████████| 50/50 [00:03<00:00, 13.67it/s]\n",
            "100%|██████████| 50/50 [00:03<00:00, 13.76it/s]\n",
            "100%|██████████| 50/50 [00:03<00:00, 13.76it/s]\n",
            "100%|██████████| 50/50 [00:03<00:00, 13.77it/s]\n",
            "100%|██████████| 50/50 [00:03<00:00, 13.70it/s]\n",
            "100%|██████████| 50/50 [00:03<00:00, 13.79it/s]\n",
            "100%|██████████| 50/50 [00:03<00:00, 13.78it/s]\n",
            "100%|██████████| 50/50 [00:03<00:00, 13.71it/s]\n",
            "100%|██████████| 50/50 [00:03<00:00, 13.76it/s]\n",
            "100%|██████████| 50/50 [00:03<00:00, 13.67it/s]\n",
            "100%|██████████| 50/50 [00:03<00:00, 13.79it/s]\n",
            "100%|██████████| 50/50 [00:03<00:00, 13.59it/s]\n",
            "100%|██████████| 50/50 [00:03<00:00, 13.77it/s]\n",
            "100%|██████████| 50/50 [00:03<00:00, 13.65it/s]\n",
            "100%|██████████| 50/50 [00:03<00:00, 13.65it/s]\n",
            "100%|██████████| 50/50 [00:03<00:00, 13.55it/s]\n",
            "100%|██████████| 50/50 [00:03<00:00, 13.56it/s]"
          ]
        },
        {
          "output_type": "stream",
          "name": "stdout",
          "text": [
            "\n",
            "Average accuracy for random features:0.5±0.0\n",
            "Average accuracy for spectral features: 1.0±0.0\n"
          ]
        },
        {
          "output_type": "stream",
          "name": "stderr",
          "text": [
            "\n"
          ]
        }
      ]
    }
  ]
}