{
  "nbformat": 4,
  "nbformat_minor": 0,
  "metadata": {
    "colab": {
      "provenance": []
    },
    "kernelspec": {
      "name": "python3",
      "display_name": "Python 3"
    },
    "language_info": {
      "name": "python"
    }
  },
  "cells": [
    {
      "cell_type": "code",
      "source": [
        "!pip install pyg-lib torch-scatter torch-sparse torch-cluster torch-spline-conv torch-geometric -f https://data.pyg.org/whl/torch-1.13.0+cpu.html"
      ],
      "metadata": {
        "colab": {
          "base_uri": "https://localhost:8080/",
          "height": 974
        },
        "id": "tx7KBMGpozts",
        "outputId": "3f061300-3875-45cb-9071-c25023b2f357"
      },
      "execution_count": 1,
      "outputs": [
        {
          "output_type": "stream",
          "name": "stdout",
          "text": [
            "Looking in indexes: https://pypi.org/simple, https://us-python.pkg.dev/colab-wheels/public/simple/\n",
            "Looking in links: https://data.pyg.org/whl/torch-1.13.0+cpu.html\n",
            "Collecting pyg-lib\n",
            "  Downloading https://data.pyg.org/whl/torch-1.13.0%2Bcpu/pyg_lib-0.1.0%2Bpt113cpu-cp38-cp38-linux_x86_64.whl (539 kB)\n",
            "\u001b[2K     \u001b[90m━━━━━━━━━━━━━━━━━━━━━━━━━━━━━━━━━━━━━━\u001b[0m \u001b[32m539.3/539.3 KB\u001b[0m \u001b[31m36.1 MB/s\u001b[0m eta \u001b[36m0:00:00\u001b[0m\n",
            "\u001b[?25hCollecting torch-scatter\n",
            "  Downloading https://data.pyg.org/whl/torch-1.13.0%2Bcpu/torch_scatter-2.1.0%2Bpt113cpu-cp38-cp38-linux_x86_64.whl (491 kB)\n",
            "\u001b[2K     \u001b[90m━━━━━━━━━━━━━━━━━━━━━━━━━━━━━━━━━━━━━━\u001b[0m \u001b[32m491.2/491.2 KB\u001b[0m \u001b[31m55.0 MB/s\u001b[0m eta \u001b[36m0:00:00\u001b[0m\n",
            "\u001b[?25hCollecting torch-sparse\n",
            "  Downloading https://data.pyg.org/whl/torch-1.13.0%2Bcpu/torch_sparse-0.6.16%2Bpt113cpu-cp38-cp38-linux_x86_64.whl (1.1 MB)\n",
            "\u001b[2K     \u001b[90m━━━━━━━━━━━━━━━━━━━━━━━━━━━━━━━━━━━━━━━━\u001b[0m \u001b[32m1.1/1.1 MB\u001b[0m \u001b[31m55.1 MB/s\u001b[0m eta \u001b[36m0:00:00\u001b[0m\n",
            "\u001b[?25hCollecting torch-cluster\n",
            "  Downloading https://data.pyg.org/whl/torch-1.13.0%2Bcpu/torch_cluster-1.6.0%2Bpt113cpu-cp38-cp38-linux_x86_64.whl (704 kB)\n",
            "\u001b[2K     \u001b[90m━━━━━━━━━━━━━━━━━━━━━━━━━━━━━━━━━━━━━━\u001b[0m \u001b[32m704.9/704.9 KB\u001b[0m \u001b[31m43.1 MB/s\u001b[0m eta \u001b[36m0:00:00\u001b[0m\n",
            "\u001b[?25hCollecting torch-spline-conv\n",
            "  Downloading https://data.pyg.org/whl/torch-1.13.0%2Bcpu/torch_spline_conv-1.2.1%2Bpt113cpu-cp38-cp38-linux_x86_64.whl (202 kB)\n",
            "\u001b[2K     \u001b[90m━━━━━━━━━━━━━━━━━━━━━━━━━━━━━━━━━━━━━━\u001b[0m \u001b[32m203.0/203.0 KB\u001b[0m \u001b[31m28.5 MB/s\u001b[0m eta \u001b[36m0:00:00\u001b[0m\n",
            "\u001b[?25hCollecting torch-geometric\n",
            "  Downloading torch_geometric-2.2.0.tar.gz (564 kB)\n",
            "\u001b[2K     \u001b[90m━━━━━━━━━━━━━━━━━━━━━━━━━━━━━━━━━━━━━━\u001b[0m \u001b[32m565.0/565.0 KB\u001b[0m \u001b[31m30.0 MB/s\u001b[0m eta \u001b[36m0:00:00\u001b[0m\n",
            "\u001b[?25h  Preparing metadata (setup.py) ... \u001b[?25l\u001b[?25hdone\n",
            "Requirement already satisfied: scipy in /usr/local/lib/python3.8/dist-packages (from torch-sparse) (1.7.3)\n",
            "Requirement already satisfied: tqdm in /usr/local/lib/python3.8/dist-packages (from torch-geometric) (4.64.1)\n",
            "Requirement already satisfied: numpy in /usr/local/lib/python3.8/dist-packages (from torch-geometric) (1.21.6)\n",
            "Requirement already satisfied: jinja2 in /usr/local/lib/python3.8/dist-packages (from torch-geometric) (2.11.3)\n",
            "Requirement already satisfied: requests in /usr/local/lib/python3.8/dist-packages (from torch-geometric) (2.25.1)\n",
            "Requirement already satisfied: pyparsing in /usr/local/lib/python3.8/dist-packages (from torch-geometric) (3.0.9)\n",
            "Requirement already satisfied: scikit-learn in /usr/local/lib/python3.8/dist-packages (from torch-geometric) (1.0.2)\n",
            "Collecting psutil>=5.8.0\n",
            "  Downloading psutil-5.9.4-cp36-abi3-manylinux_2_12_x86_64.manylinux2010_x86_64.manylinux_2_17_x86_64.manylinux2014_x86_64.whl (280 kB)\n",
            "\u001b[2K     \u001b[90m━━━━━━━━━━━━━━━━━━━━━━━━━━━━━━━━━━━━━━\u001b[0m \u001b[32m280.2/280.2 KB\u001b[0m \u001b[31m41.4 MB/s\u001b[0m eta \u001b[36m0:00:00\u001b[0m\n",
            "\u001b[?25hRequirement already satisfied: MarkupSafe>=0.23 in /usr/local/lib/python3.8/dist-packages (from jinja2->torch-geometric) (2.0.1)\n",
            "Requirement already satisfied: chardet<5,>=3.0.2 in /usr/local/lib/python3.8/dist-packages (from requests->torch-geometric) (4.0.0)\n",
            "Requirement already satisfied: urllib3<1.27,>=1.21.1 in /usr/local/lib/python3.8/dist-packages (from requests->torch-geometric) (1.24.3)\n",
            "Requirement already satisfied: idna<3,>=2.5 in /usr/local/lib/python3.8/dist-packages (from requests->torch-geometric) (2.10)\n",
            "Requirement already satisfied: certifi>=2017.4.17 in /usr/local/lib/python3.8/dist-packages (from requests->torch-geometric) (2022.12.7)\n",
            "Requirement already satisfied: threadpoolctl>=2.0.0 in /usr/local/lib/python3.8/dist-packages (from scikit-learn->torch-geometric) (3.1.0)\n",
            "Requirement already satisfied: joblib>=0.11 in /usr/local/lib/python3.8/dist-packages (from scikit-learn->torch-geometric) (1.2.0)\n",
            "Building wheels for collected packages: torch-geometric\n",
            "  Building wheel for torch-geometric (setup.py) ... \u001b[?25l\u001b[?25hdone\n",
            "  Created wheel for torch-geometric: filename=torch_geometric-2.2.0-py3-none-any.whl size=773302 sha256=14427d0365bce69073dfd02f8695566c91f3ea8fef688a01580fccbe0c8942b4\n",
            "  Stored in directory: /root/.cache/pip/wheels/59/a3/20/198928106d3169865ae73afcbd3d3d1796cf6b429b55c65378\n",
            "Successfully built torch-geometric\n",
            "Installing collected packages: torch-spline-conv, torch-scatter, pyg-lib, psutil, torch-sparse, torch-cluster, torch-geometric\n",
            "  Attempting uninstall: psutil\n",
            "    Found existing installation: psutil 5.4.8\n",
            "    Uninstalling psutil-5.4.8:\n",
            "      Successfully uninstalled psutil-5.4.8\n",
            "Successfully installed psutil-5.9.4 pyg-lib-0.1.0+pt113cpu torch-cluster-1.6.0+pt113cpu torch-geometric-2.2.0 torch-scatter-2.1.0+pt113cpu torch-sparse-0.6.16+pt113cpu torch-spline-conv-1.2.1+pt113cpu\n"
          ]
        },
        {
          "output_type": "display_data",
          "data": {
            "application/vnd.colab-display-data+json": {
              "pip_warning": {
                "packages": [
                  "psutil"
                ]
              }
            }
          },
          "metadata": {}
        }
      ]
    },
    {
      "cell_type": "code",
      "execution_count": 2,
      "metadata": {
        "id": "09soA6uHZ4Sa"
      },
      "outputs": [],
      "source": [
        "# Import dependencies \n",
        "import numpy as np\n",
        "import torch\n",
        "from torch_geometric.datasets import TUDataset\n",
        "import matplotlib.pyplot as plt"
      ]
    },
    {
      "cell_type": "code",
      "source": [
        "def heat_kernel_approximation_large(vals,vecs,t):\n",
        "  H = torch.exp(-vals.unsqueeze(1) * t ).T * vecs @ vecs.T \n",
        "  return H"
      ],
      "metadata": {
        "id": "uwbMv4pvaO0v"
      },
      "execution_count": 3,
      "outputs": []
    },
    {
      "cell_type": "code",
      "source": [
        "def heat_kernel_approximation_small(L,t,num_iters):\n",
        "  H_0 = torch.eye(L.size(0)).double()\n",
        "  H_t = H_0\n",
        "  for i in range(num_iters):\n",
        "    H_t = H_t - (t/num_iters)*L @ H_t\n",
        "  return H_t"
      ],
      "metadata": {
        "id": "tOOtgCMEyFKC"
      },
      "execution_count": 4,
      "outputs": []
    },
    {
      "cell_type": "code",
      "source": [
        "def heat_kernel(vals,vecs,t):\n",
        "    H = torch.exp(-vals.unsqueeze(1) * t ).T * vecs @ vecs.T \n",
        "    return H"
      ],
      "metadata": {
        "id": "22pPqIkX683w"
      },
      "execution_count": 5,
      "outputs": []
    },
    {
      "cell_type": "code",
      "source": [
        "def get_adjecancy(graph_data):\n",
        "  A=torch.zeros((graph_data.num_nodes,graph_data.num_nodes))\n",
        "  A[graph_data.edge_index[0],graph_data.edge_index[1]]=1\n",
        "  assert (A.transpose(0, 1) == A).all()\n",
        "  return A"
      ],
      "metadata": {
        "id": "cIRDQeWw5E4b"
      },
      "execution_count": 6,
      "outputs": []
    },
    {
      "cell_type": "code",
      "source": [
        "def eigendecomposition(graph_data):\n",
        "  A = get_adjecancy(graph_data).double()\n",
        "  D = torch.diag(torch.sum(A, 1))\n",
        "  eig_val, eig_vec = torch.linalg.eigh((D - A).double())\n",
        "  return eig_val,eig_vec, (D - A).double()"
      ],
      "metadata": {
        "id": "W1K8C56D54H0"
      },
      "execution_count": 7,
      "outputs": []
    },
    {
      "cell_type": "code",
      "source": [
        "test_graphs = TUDataset(\".\",\"REDDIT-BINARY\")"
      ],
      "metadata": {
        "id": "7ZSaJPK0-FKa",
        "colab": {
          "base_uri": "https://localhost:8080/"
        },
        "outputId": "b6c76bb3-b7f9-4d22-f202-edecf04903ee"
      },
      "execution_count": 8,
      "outputs": [
        {
          "output_type": "stream",
          "name": "stderr",
          "text": [
            "Downloading https://www.chrsmrrs.com/graphkerneldatasets/REDDIT-BINARY.zip\n",
            "Extracting ./REDDIT-BINARY/REDDIT-BINARY.zip\n",
            "Processing...\n",
            "Done!\n"
          ]
        }
      ]
    },
    {
      "cell_type": "code",
      "source": [
        "K = 50\n",
        "error_large_t = torch.Tensor([0.]*K)\n",
        "num_smaller = 0\n",
        "for graph in test_graphs[:100]:\n",
        "  if graph.num_nodes < K:\n",
        "    num_smaller+=1\n",
        "    continue\n",
        "  eig_val, eig_vec, L = eigendecomposition(graph)\n",
        "  H_t_large = heat_kernel(eig_val,eig_vec,10)\n",
        "  for k in range(1,K+1):\n",
        "    app_H_t_large = heat_kernel_approximation_large(eig_val[:k],eig_vec[:,:k],10)\n",
        "    error_large_t[k-1]+= torch.sum(torch.abs(app_H_t_large-H_t_large)) / graph.num_nodes\n",
        "error_large_t=error_large_t / (len(test_graphs)-num_smaller)\n"
      ],
      "metadata": {
        "id": "FdVQU01A8U3d"
      },
      "execution_count": 10,
      "outputs": []
    },
    {
      "cell_type": "code",
      "source": [
        "plt.plot(list(range(1,K+1)), error_large_t.tolist())\n",
        "plt.xlabel(\"Eigenvalues\")\n",
        "plt.ylabel(\"Average approximation error\")\n",
        "#plt.show()\n",
        "plt.savefig(\"large_t_app_error.pdf\")"
      ],
      "metadata": {
        "colab": {
          "base_uri": "https://localhost:8080/",
          "height": 279
        },
        "id": "oYPq2hrA-uvn",
        "outputId": "9dd7f904-5377-4edf-8a04-73f2e50f7e32"
      },
      "execution_count": 20,
      "outputs": [
        {
          "output_type": "display_data",
          "data": {
            "text/plain": [
              "<Figure size 432x288 with 1 Axes>"
            ],
            "image/png": "[encoded data removed]"
          },
          "metadata": {
            "needs_background": "light"
          }
        }
      ]
    },
    {
      "cell_type": "code",
      "source": [
        "max_iters = 20\n",
        "error_small_t = torch.Tensor([0.]*max_iters)\n",
        "for graph in test_graphs[:100]:\n",
        "  eig_val, eig_vec, L = eigendecomposition(graph)\n",
        "  H_t_small = heat_kernel(eig_val,eig_vec,0.001)\n",
        "  for k in range(1,max_iters+1):\n",
        "    app_H_t_small = heat_kernel_approximation_small(L,0.01,k)\n",
        "    error_small_t[k-1]+= torch.sum(torch.abs(app_H_t_small-H_t_small))/ graph.num_nodes\n",
        "error_small_t=error_small_t / (len(test_graphs))"
      ],
      "metadata": {
        "id": "djuxyj_ZCMYT"
      },
      "execution_count": 13,
      "outputs": []
    },
    {
      "cell_type": "code",
      "source": [
        "plt.plot(list(range(1,max_iters+1)), error_small_t.tolist())\n",
        "plt.xlabel(\"Iterations\")\n",
        "plt.ylabel(\"Average approximation error\")\n",
        "#plt.show()\n",
        "plt.savefig(\"small_t_app_error.pdf\")"
      ],
      "metadata": {
        "colab": {
          "base_uri": "https://localhost:8080/",
          "height": 279
        },
        "id": "Kqxm0MTgCcV7",
        "outputId": "eae55c3e-fe03-4ab8-fa26-7106baab836a"
      },
      "execution_count": 22,
      "outputs": [
        {
          "output_type": "display_data",
          "data": {
            "text/plain": [
              "<Figure size 432x288 with 1 Axes>"
            ],
            "image/png": "[encoded data removed]"
          },
          "metadata": {
            "needs_background": "light"
          }
        }
      ]
    }
  ]
}